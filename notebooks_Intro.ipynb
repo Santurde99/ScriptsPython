{
  "metadata": {
    "kernelspec": {
      "name": "python",
      "display_name": "Python (Pyodide)",
      "language": "python"
    },
    "language_info": {
      "codemirror_mode": {
        "name": "python",
        "version": 3
      },
      "file_extension": ".py",
      "mimetype": "text/x-python",
      "name": "python",
      "nbconvert_exporter": "python",
      "pygments_lexer": "ipython3",
      "version": "3.8"
    }
  },
  "nbformat_minor": 5,
  "nbformat": 4,
  "cells": [
    {
      "cell_type": "code",
      "source": "import pyphen\n\n#Parte del codigo que encripta\ndef separar_silabas_encriptar(palabra):\n    vocales=\"aeiouáéíóúü\"\n    diccionario = pyphen.Pyphen(lang='es_ES')\n    palabraSeparada = diccionario.inserted(palabra)\n    vocalActual=\"a\"\n    palabraresultado = \"\"\n    for i in palabraSeparada:\n        if (i in vocales):\n            vocalActual = i\n            palabraresultado += i\n        elif (i == \"-\"):\n            palabraresultado += \"p\"+vocalActual\n        else:\n            palabraresultado += i\n    palabraresultado += \"p\" + vocalActual\n    return palabraresultado \n\ndef separar_palabras_encriptar(frase):\n    palabraActual = \"\"\n    fraseResultado = \"\"\n    for o in frase:\n        if (o == \" \"):\n            fraseResultado += separar_silabas_encriptar(palabraActual)\n            fraseResultado += \" \"\n            palabraActual = \"\"\n        else:\n            palabraActual += o\n    fraseResultado += separar_silabas_encriptar(palabraActual)\n    return fraseResultado\n\n#parte del codigo que desencripta\ndef separar_palabras_desencriptar(frase):\n    palabraActual = \"\"\n    fraseResultado = \"\"\n    for o in frase:\n        if (o == \" \"):\n            fraseResultado += separar_silabas_desencriptar(palabraActual)\n            fraseResultado += \" \"\n            palabraActual = \"\"\n        else:\n            palabraActual += o\n    fraseResultado += separar_silabas_desencriptar(palabraActual)\n    return fraseResultado\n\ndef separar_silabas_desencriptar(palabra):\n    vocales=\"aeiouáéíóúü\"\n    diccionario = pyphen.Pyphen(lang='es_ES')\n    palabraSeparada = diccionario.inserted(palabra)\n    palabraresultado = \"\"\n    silabaPar = False\n    for i in palabraSeparada:\n        if (i == \"-\"):\n            if (silabaPar == True):\n                silabaPar = False\n            else:\n                silabaPar = True\n        if (silabaPar == False) and (i != \"-\"):\n            palabraresultado += i\n    return palabraresultado\n\n#Seguro que hay formas de resumir el codigo y no tenerlo \"duplicado\" pero soy vago1\nif __name__ == \"__main__\":\n    print(\"========[Menu]========\")\n    print(\"(1) Encriptar\")\n    print(\"(2) Desencriptar\")\n    print(\"======================\")\n    respuesta=\"\"\n    while ((respuesta != \"1\") or (respuesta != \"2\")):\n        respuesta = input(\"Elije una opcion: \")\n        if (respuesta == \"1\"):\n            frase = input(\"Introduce la frase que quieres encriptar: \")\n            print(separar_palabras_encriptar(frase))\n            break\n        if (respuesta == \"2\"):\n            frase = input(\"Introduce la frase que quieres desencriptar: \")\n            print(separar_palabras_desencriptar(frase))\n            break\n    input(\"Pulsa intro para finalizar\")",
      "metadata": {
        "trusted": true
      },
      "execution_count": 1,
      "outputs": [
        {
          "ename": "<class 'ModuleNotFoundError'>",
          "evalue": "No module named 'pyphen'",
          "traceback": [
            "\u001b[0;31m---------------------------------------------------------------------------\u001b[0m",
            "\u001b[0;31mModuleNotFoundError\u001b[0m                       Traceback (most recent call last)",
            "Cell \u001b[0;32mIn[1], line 1\u001b[0m\n\u001b[0;32m----> 1\u001b[0m \u001b[38;5;28;01mimport\u001b[39;00m \u001b[38;5;21;01mpyphen\u001b[39;00m\n\u001b[1;32m      3\u001b[0m \u001b[38;5;66;03m#Parte del codigo que encripta\u001b[39;00m\n\u001b[1;32m      4\u001b[0m \u001b[38;5;28;01mdef\u001b[39;00m \u001b[38;5;21mseparar_silabas_encriptar\u001b[39m(palabra):\n",
            "\u001b[0;31mModuleNotFoundError\u001b[0m: No module named 'pyphen'"
          ],
          "output_type": "error"
        }
      ],
      "id": "d2ad3a98-910e-4dba-9288-0207fdf7bcf0"
    }
  ]
}